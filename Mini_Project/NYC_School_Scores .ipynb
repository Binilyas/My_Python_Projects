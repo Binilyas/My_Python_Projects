{
 "cells": [
  {
   "cell_type": "markdown",
   "id": "47e53f76",
   "metadata": {},
   "source": [
    "## **EXPLORING NYC SCHOOL TEST RESULTS SCORE**\n",
    "\n",
    "### **PROJECT INSTRUCTION**\n",
    "Perform exploratory data analysis on the *School.csv* data to understand more about Top performance.\n",
    "1. Finding School with the best math Score\n",
    "2. Identifying the top 10 perfoming School\n",
    "3. Locating the NYC borough with the largest Standard deviation in SAT performance"
   ]
  },
  {
   "cell_type": "markdown",
   "id": "f81b0dcf",
   "metadata": {},
   "source": [
    "Importing the libraries"
   ]
  },
  {
   "cell_type": "code",
   "execution_count": 2,
   "id": "2c2db1bb",
   "metadata": {},
   "outputs": [],
   "source": [
    "#Importing the libraries\n",
    "import pandas as pd\n",
    "import numpy as np\n",
    "import matplotlib.pyplot as plt\n",
    "\n"
   ]
  },
  {
   "cell_type": "markdown",
   "id": "fd945a01",
   "metadata": {},
   "source": [
    "Import the School.csv file "
   ]
  },
  {
   "cell_type": "code",
   "execution_count": null,
   "id": "62bb8877",
   "metadata": {},
   "outputs": [],
   "source": [
    "#Import the School.csv file (Dataset)\n",
    "school = pd.read_csv('schools.csv')\n",
    "\n",
    "#Display the first 5 rows of the dataset\n",
    "print(school.head())"
   ]
  },
  {
   "cell_type": "markdown",
   "id": "b50574f4",
   "metadata": {},
   "source": [
    "**Question 1**: Finding School with the best math Score"
   ]
  },
  {
   "cell_type": "code",
   "execution_count": null,
   "id": "620d8d2e",
   "metadata": {},
   "outputs": [],
   "source": [
    "#Question 1: Finding School with the best math Score\n",
    "\n",
    "#filter where the average math score = 640\n",
    "best_average_math_score = school[school[\"average_math\"] >= 640]\n",
    "\n",
    "#Return the School name and Best average math scores\n",
    "best_average_math_score = best_average_math_score[['school_name', 'average_math']]\n",
    "\n",
    "#Sort the average math score in decending order \n",
    "best_average_math_score = best_average_math_score.sort_values(by='average_math', ascending=False)\n",
    "\n",
    "#Display the results\n",
    "print(best_average_math_score)\n"
   ]
  },
  {
   "cell_type": "markdown",
   "id": "3f102c2f",
   "metadata": {},
   "source": [
    "2. Identifying the top 10 perfoming School"
   ]
  },
  {
   "cell_type": "code",
   "execution_count": null,
   "id": "2662a909",
   "metadata": {},
   "outputs": [
    {
     "data": {
      "text/plain": [
       "<bound method NDFrame.head of                                            school_name    borough  \\\n",
       "0    New Explorations into Science, Technology and ...  Manhattan   \n",
       "1                                 Essex Street Academy  Manhattan   \n",
       "2                         Lower Manhattan Arts Academy  Manhattan   \n",
       "3      High School for Dual Language and Asian Studies  Manhattan   \n",
       "4        Henry Street School for International Studies  Manhattan   \n",
       "..                                                 ...        ...   \n",
       "370  Queens High School for Information, Research, ...     Queens   \n",
       "371  Rockaway Park High School for Environmental Su...     Queens   \n",
       "372                   Channel View School for Research     Queens   \n",
       "373                    Rockaway Collegiate High School     Queens   \n",
       "374                                  Scholars' Academy     Queens   \n",
       "\n",
       "    building_code  average_math  average_reading  average_writing  \\\n",
       "0            M022           657              601              601   \n",
       "1            M445           395              411              387   \n",
       "2            M445           418              428              415   \n",
       "3            M445           613              453              463   \n",
       "4            M056           410              406              381   \n",
       "..            ...           ...              ...              ...   \n",
       "370          Q465           372              362              352   \n",
       "371          Q410           357              381              376   \n",
       "372          Q410           427              430              423   \n",
       "373          Q410           399              403              405   \n",
       "374          Q180           588              560              568   \n",
       "\n",
       "     percent_tested  \n",
       "0               NaN  \n",
       "1              78.9  \n",
       "2              65.1  \n",
       "3              95.9  \n",
       "4              59.7  \n",
       "..              ...  \n",
       "370            44.6  \n",
       "371            38.5  \n",
       "372            76.6  \n",
       "373            46.5  \n",
       "374            99.2  \n",
       "\n",
       "[375 rows x 7 columns]>"
      ]
     },
     "execution_count": 36,
     "metadata": {},
     "output_type": "execute_result"
    }
   ],
   "source": [
    "#Identifying the top 10 perfoming School\n"
   ]
  }
 ],
 "metadata": {
  "kernelspec": {
   "display_name": "ArewaDS",
   "language": "python",
   "name": "python3"
  },
  "language_info": {
   "codemirror_mode": {
    "name": "ipython",
    "version": 3
   },
   "file_extension": ".py",
   "mimetype": "text/x-python",
   "name": "python",
   "nbconvert_exporter": "python",
   "pygments_lexer": "ipython3",
   "version": "3.13.1"
  }
 },
 "nbformat": 4,
 "nbformat_minor": 5
}
