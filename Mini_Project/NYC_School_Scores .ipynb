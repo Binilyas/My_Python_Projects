{
 "cells": [
  {
   "cell_type": "markdown",
   "id": "47e53f76",
   "metadata": {},
   "source": [
    "## **EXPLORING NYC SCHOOL TEST RESULTS SCORE**\n",
    "\n",
    "### **PROJECT INSTRUCTION**\n",
    "Perform exploratory data analysis on the *School.csv* data to understand more about Top performance.\n",
    "1. Finding School with the best math Score\n",
    "2. Identifying the top 10 perfoming School\n",
    "3. Locating the NYC borough with the largest Standard deviation in SAT performance"
   ]
  },
  {
   "cell_type": "markdown",
   "id": "f81b0dcf",
   "metadata": {},
   "source": [
    "Importing the libraries"
   ]
  },
  {
   "cell_type": "code",
   "execution_count": 2,
   "id": "2c2db1bb",
   "metadata": {},
   "outputs": [],
   "source": [
    "#Importing the libraries\n",
    "import pandas as pd\n",
    "import numpy as np\n",
    "import matplotlib.pyplot as plt\n",
    "\n"
   ]
  },
  {
   "cell_type": "markdown",
   "id": "fd945a01",
   "metadata": {},
   "source": [
    "Import the School.csv file "
   ]
  },
  {
   "cell_type": "code",
   "execution_count": 3,
   "id": "62bb8877",
   "metadata": {},
   "outputs": [
    {
     "name": "stdout",
     "output_type": "stream",
     "text": [
      "                                         school_name    borough building_code  \\\n",
      "0  New Explorations into Science, Technology and ...  Manhattan          M022   \n",
      "1                               Essex Street Academy  Manhattan          M445   \n",
      "2                       Lower Manhattan Arts Academy  Manhattan          M445   \n",
      "3    High School for Dual Language and Asian Studies  Manhattan          M445   \n",
      "4      Henry Street School for International Studies  Manhattan          M056   \n",
      "\n",
      "   average_math  average_reading  average_writing  percent_tested  \n",
      "0           657              601              601             NaN  \n",
      "1           395              411              387            78.9  \n",
      "2           418              428              415            65.1  \n",
      "3           613              453              463            95.9  \n",
      "4           410              406              381            59.7  \n"
     ]
    }
   ],
   "source": [
    "#Import the School.csv file (Dataset)\n",
    "school = pd.read_csv('schools.csv')\n",
    "\n",
    "#Display the first 5 rows of the dataset\n",
    "print(school.head())"
   ]
  },
  {
   "cell_type": "code",
   "execution_count": 8,
   "id": "0a955cd4",
   "metadata": {},
   "outputs": [
    {
     "data": {
      "text/plain": [
       "Index(['school_name', 'borough', 'building_code', 'average_math',\n",
       "       'average_reading', 'average_writing', 'percent_tested', 'total_score'],\n",
       "      dtype='object')"
      ]
     },
     "execution_count": 8,
     "metadata": {},
     "output_type": "execute_result"
    }
   ],
   "source": [
    "school.columns"
   ]
  },
  {
   "cell_type": "markdown",
   "id": "b50574f4",
   "metadata": {},
   "source": [
    "**Question 1**: Finding School with the best math Score"
   ]
  },
  {
   "cell_type": "code",
   "execution_count": 4,
   "id": "620d8d2e",
   "metadata": {},
   "outputs": [
    {
     "name": "stdout",
     "output_type": "stream",
     "text": [
      "                                           school_name  average_math\n",
      "88                              Stuyvesant High School           754\n",
      "170                       Bronx High School of Science           714\n",
      "93                 Staten Island Technical High School           711\n",
      "365  Queens High School for the Sciences at York Co...           701\n",
      "68   High School for Mathematics, Science, and Engi...           683\n",
      "280                     Brooklyn Technical High School           682\n",
      "333                        Townsend Harris High School           680\n",
      "174  High School of American Studies at Lehman College           669\n",
      "0    New Explorations into Science, Technology and ...           657\n",
      "45                       Eleanor Roosevelt High School           641\n"
     ]
    }
   ],
   "source": [
    "#Question 1: Finding School with the best math Score\n",
    "\n",
    "#filter where the average math score = 640\n",
    "best_average_math_score = school[school[\"average_math\"] >= 640]\n",
    "\n",
    "#Return the School name and Best average math scores\n",
    "best_average_math_score = best_average_math_score[['school_name', 'average_math']]\n",
    "\n",
    "#Sort the average math score in decending order \n",
    "best_average_math_score = best_average_math_score.sort_values(by='average_math', ascending=False)\n",
    "\n",
    "#Display the results\n",
    "print(best_average_math_score)\n"
   ]
  },
  {
   "cell_type": "markdown",
   "id": "3f102c2f",
   "metadata": {},
   "source": [
    "2. Identifying the top 10 perfoming School"
   ]
  },
  {
   "cell_type": "code",
   "execution_count": null,
   "id": "2662a909",
   "metadata": {},
   "outputs": [
    {
     "name": "stdout",
     "output_type": "stream",
     "text": [
      "                                           school_name  total_score\n",
      "88                              Stuyvesant High School         2144\n",
      "170                       Bronx High School of Science         2041\n",
      "93                 Staten Island Technical High School         2041\n",
      "174  High School of American Studies at Lehman College         2013\n",
      "333                        Townsend Harris High School         1981\n",
      "365  Queens High School for the Sciences at York Co...         1947\n",
      "5                       Bard High School Early College         1914\n",
      "280                     Brooklyn Technical High School         1896\n",
      "45                       Eleanor Roosevelt High School         1889\n",
      "68   High School for Mathematics, Science, and Engi...         1889\n"
     ]
    }
   ],
   "source": [
    "#Identifying the top 10 perfoming School\n",
    "\n",
    "#Creating a new column\n",
    "school[\"total_score\"] = school.iloc[:,3:6].sum(axis=1) \n",
    "\n",
    "#Sort the school by total in decending order \n",
    "top_10_schools = school.sort_values(by=\"total_score\", ascending=False)\n",
    "\n",
    "#Return the schools name and total_score\n",
    "top_10_schools = top_10_schools[[\"school_name\", \"total_score\"]].head(10)\n",
    "\n",
    "#Display the results\n",
    "print(top_10_schools)"
   ]
  },
  {
   "cell_type": "markdown",
   "id": "424d72ad",
   "metadata": {},
   "source": [
    "**Question 3:** Locating the NYC borough with the largest Standard deviation in SAT performance"
   ]
  },
  {
   "cell_type": "code",
   "execution_count": 30,
   "id": "0c4df3d8",
   "metadata": {},
   "outputs": [
    {
     "name": "stdout",
     "output_type": "stream",
     "text": [
      "               num_schools  average_SAT  std_SAT\n",
      "borough                                         \n",
      "Bronx                   98      1202.72   150.39\n",
      "Brooklyn               109      1230.26   154.87\n",
      "Manhattan               89      1340.13   230.29\n",
      "Queens                  69      1345.48   195.25\n",
      "Staten Island           10      1439.00   222.30\n",
      "           num_schools  average_SAT  std_SAT\n",
      "borough                                     \n",
      "Manhattan           89      1340.13   230.29\n"
     ]
    }
   ],
   "source": [
    "#Locating the NYC borough with the largest Standard deviation in SAT performance\n",
    "\n",
    "#Creating a new column\n",
    "school[\"total_score\"] = school.iloc[:,3:6].sum(axis=1) \n",
    "\n",
    "# group the data and calculate the number of schools and average Sat \n",
    "brorough_SAT = school.groupby(\"borough\").agg(\n",
    "    num_schools = (\"school_name\", \"count\"), \n",
    "    average_SAT = (\"total_score\", \"mean\"),\n",
    "    std_SAT = (\"total_score\", \"std\")\n",
    ").round(2)\n",
    "\n",
    "#Display the results\n",
    "print(brorough_SAT)\n",
    "\n",
    "\n",
    "# getting the largest \n",
    "largest_std_dev = brorough_SAT.sort_values(by='std_SAT', ascending=False).head(1)\n",
    "\n",
    "#Display the results\n",
    "print(largest_std_dev)"
   ]
  },
  {
   "cell_type": "code",
   "execution_count": null,
   "id": "d88c62e0",
   "metadata": {},
   "outputs": [],
   "source": [
    "churn_subset = churn\n",
    "churn_filter = churn_subset[churn_subset[\"geography\"].isin([\"Germany\", \"France\"])]\n",
    "print(churn_filter.head())"
   ]
  }
 ],
 "metadata": {
  "kernelspec": {
   "display_name": "ArewaDS",
   "language": "python",
   "name": "python3"
  },
  "language_info": {
   "codemirror_mode": {
    "name": "ipython",
    "version": 3
   },
   "file_extension": ".py",
   "mimetype": "text/x-python",
   "name": "python",
   "nbconvert_exporter": "python",
   "pygments_lexer": "ipython3",
   "version": "3.13.1"
  }
 },
 "nbformat": 4,
 "nbformat_minor": 5
}
