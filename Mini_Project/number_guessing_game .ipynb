{
 "cells": [
  {
   "cell_type": "markdown",
   "metadata": {},
   "source": [
    "## **NUMBER GUESSING GAME**\n"
   ]
  },
  {
   "cell_type": "code",
   "execution_count": 1,
   "metadata": {},
   "outputs": [
    {
     "name": "stdout",
     "output_type": "stream",
     "text": [
      "The number 20 is too low\n",
      "The number 30 is too low\n",
      "The number 50 is too low\n",
      "The number 70 is too low\n",
      "The number 80 is too low\n",
      "The number 90 is too low\n",
      "The number 100 is too high\n",
      "The number 95 is Correct!\n",
      "This round took you 8 guessess\n"
     ]
    }
   ],
   "source": [
    "import random\n",
    "\n",
    "low = 1\n",
    "high = 100\n",
    "guesses = 0\n",
    "num = random.randint(low, high)\n",
    "\n",
    "#Using while loop \n",
    "\n",
    "while True:\n",
    "    guess = int(input(f\"Enter the number between ({low} - {high}): \"))\n",
    "    guesses += 1\n",
    "\n",
    "    if guess < num:\n",
    "        print(f\"The number {guess} is too low\")\n",
    "    elif guess > num:\n",
    "        print(f\"The number {guess} is too high\")\n",
    "    else:\n",
    "        print(f\"The number {guess} is Correct!\")\n",
    "        break\n",
    "\n",
    "print(f\"This round took you {guesses} guessess\")"
   ]
  }
 ],
 "metadata": {
  "kernelspec": {
   "display_name": "ArewaDS",
   "language": "python",
   "name": "python3"
  },
  "language_info": {
   "codemirror_mode": {
    "name": "ipython",
    "version": 3
   },
   "file_extension": ".py",
   "mimetype": "text/x-python",
   "name": "python",
   "nbconvert_exporter": "python",
   "pygments_lexer": "ipython3",
   "version": "3.13.1"
  }
 },
 "nbformat": 4,
 "nbformat_minor": 2
}
