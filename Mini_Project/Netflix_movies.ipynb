{
 "cells": [
  {
   "cell_type": "markdown",
   "metadata": {},
   "source": [
    "## **NETFLIX MOVIES INVESTIGATION**\n",
    "\n",
    "### **PROJECT INSTRUCTION**\n",
    "Perform exploratory data analysis on the *netflix_data.csv* data to understand more about movies from the 1990s decade.\n",
    "1. What was the most frequent movie duration in the 1990s? Save an approximate answer as an integer called _Duration._\n",
    "2. A movie is considered short if it is less than 90 minutes. count the number of _short action movies_ released in the 1990s and save this integer as *short_movie_count*"
   ]
  }
 ],
 "metadata": {
  "kernelspec": {
   "display_name": "ArewaDS",
   "language": "python",
   "name": "python3"
  },
  "language_info": {
   "name": "python",
   "version": "3.13.1"
  }
 },
 "nbformat": 4,
 "nbformat_minor": 2
}
