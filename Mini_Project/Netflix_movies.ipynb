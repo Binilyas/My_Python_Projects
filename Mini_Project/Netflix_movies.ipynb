{
 "cells": [
  {
   "cell_type": "markdown",
   "metadata": {},
   "source": [
    "## **NETFLIX MOVIES INVESTIGATION**\n",
    "\n",
    "### **PROJECT INSTRUCTION**\n",
    "Perform exploratory data analysis on the *netflix_data.csv* data to understand more about movies from the 1990s decade.\n",
    "1. What was the most frequent movie duration in the 1990s? Save an approximate answer as an integer called _Duration._\n",
    "2. A movie is considered short if it is less than 90 minutes. count the number of _short action movies_ released in the 1990s and save this integer as *short_movie_count*"
   ]
  },
  {
   "cell_type": "markdown",
   "metadata": {},
   "source": [
    "## **SOLUTION**\n",
    "\n",
    "#### IMPORT ALL THE LIBRARIES NEEDED FOR THE PROJECT\n",
    "- **pandas**: For reading files \n",
    "- **Matplotlib**: for visualization"
   ]
  },
  {
   "cell_type": "code",
   "execution_count": 1,
   "metadata": {},
   "outputs": [],
   "source": [
    "#IMPORTING THE LIB\n",
    "import pandas as pd\n",
    "import matplotlib.pyplot as plt\n"
   ]
  },
  {
   "cell_type": "markdown",
   "metadata": {},
   "source": [
    "#### READING THE  NETFLIX FILE AND CHECKING THE SUMMARY OF THE FILE"
   ]
  },
  {
   "cell_type": "code",
   "execution_count": 6,
   "metadata": {},
   "outputs": [
    {
     "name": "stdout",
     "output_type": "stream",
     "text": [
      "<class 'pandas.core.frame.DataFrame'>\n",
      "RangeIndex: 4812 entries, 0 to 4811\n",
      "Data columns (total 11 columns):\n",
      " #   Column        Non-Null Count  Dtype \n",
      "---  ------        --------------  ----- \n",
      " 0   show_id       4812 non-null   object\n",
      " 1   type          4812 non-null   object\n",
      " 2   title         4812 non-null   object\n",
      " 3   director      4812 non-null   object\n",
      " 4   cast          4812 non-null   object\n",
      " 5   country       4812 non-null   object\n",
      " 6   date_added    4812 non-null   object\n",
      " 7   release_year  4812 non-null   int64 \n",
      " 8   duration      4812 non-null   int64 \n",
      " 9   description   4812 non-null   object\n",
      " 10  genre         4812 non-null   object\n",
      "dtypes: int64(2), object(9)\n",
      "memory usage: 413.7+ KB\n"
     ]
    }
   ],
   "source": [
    "#Reading the file\n",
    "netflix_df = pd.read_csv(\"netflix_data.csv\")\n",
    "\n",
    "#Checking the summary of the file\n",
    "netflix_df.info()"
   ]
  },
  {
   "cell_type": "code",
   "execution_count": 8,
   "metadata": {},
   "outputs": [
    {
     "data": {
      "text/plain": [
       "np.int64(0)"
      ]
     },
     "execution_count": 8,
     "metadata": {},
     "output_type": "execute_result"
    }
   ],
   "source": [
    "#Checking for duplicate\n",
    "netflix_df.duplicated().sum()\n",
    "\n",
    "#This means there is no duplicate value returning zero."
   ]
  },
  {
   "cell_type": "markdown",
   "metadata": {},
   "source": [
    "The dataframe has no duplicate"
   ]
  },
  {
   "cell_type": "markdown",
   "metadata": {},
   "source": [
    "### **SUBSETTING THE DATA**\n",
    "Subsetting the data to isolate the year of movies and movies release in 1990s"
   ]
  },
  {
   "cell_type": "code",
   "execution_count": null,
   "metadata": {},
   "outputs": [
    {
     "data": {
      "text/plain": [
       "release_year\n",
       "1997    26\n",
       "1998    26\n",
       "1999    26\n",
       "1993    16\n",
       "1995    16\n",
       "1992    16\n",
       "1990    15\n",
       "1996    15\n",
       "1994    14\n",
       "1991    14\n",
       "Name: count, dtype: int64"
      ]
     },
     "execution_count": 21,
     "metadata": {},
     "output_type": "execute_result"
    }
   ],
   "source": [
    "#Subsetting the data to isolate the year of movies and movies release in 1990s\n",
    "netflix_df[\"release_year\"].value_counts()\n",
    "\n",
    "#Filter the movies between 1990 to 1999\n",
    "subset = netflix_df[\"release_year\"].between(1990, 1999)\n",
    "\n",
    "\n",
    "#Declear a variable called movie_in_1990s to store in the subset\n",
    "movie_in_1990s = netflix_df[subset]\n",
    "movie_in_1990s[\"release_year\"].value_counts()"
   ]
  },
  {
   "cell_type": "markdown",
   "metadata": {},
   "source": [
    "#### **Creating an histogram to help you visualized the count of movies release in 1990s**"
   ]
  },
  {
   "cell_type": "code",
   "execution_count": 25,
   "metadata": {},
   "outputs": [
    {
     "data": {
      "image/png": "[encoded data removed]",
      "text/plain": [
       "<Figure size 640x480 with 1 Axes>"
      ]
     },
     "metadata": {},
     "output_type": "display_data"
    }
   ],
   "source": [
    "plt.hist(movie_in_1990s[\"release_year\"])\n",
    "plt.xlabel(\"Year\")\n",
    "plt.ylabel(\"Count of movies\")\n",
    "plt.title(\"release year of movies in 1990s\")\n",
    "plt.show()"
   ]
  },
  {
   "cell_type": "markdown",
   "metadata": {},
   "source": [
    "Netflix featured a higher proportion of movies release in the late 1990s than those in the early 1990s"
   ]
  },
  {
   "cell_type": "markdown",
   "metadata": {},
   "source": [
    "## **QUESTION 1**\n",
    "1. What was the most frequent movie duration in the 1990s? Save an approximate answer as an integer called _Duration._"
   ]
  },
  {
   "cell_type": "code",
   "execution_count": 36,
   "metadata": {},
   "outputs": [
    {
     "name": "stdout",
     "output_type": "stream",
     "text": [
      "94\n"
     ]
    }
   ],
   "source": [
    "#1. What was the most frequent movie duration in the 1990s? Save an approximate answer as an integer called _Duration._\n",
    "movie_in_1990s[\"duration\"].value_counts()\n",
    "\n",
    "#Using mode in built function to find the most frequest movies duration\n",
    "duration = movie_in_1990s[\"duration\"].mode().sum()\n",
    "print(duration)"
   ]
  },
  {
   "cell_type": "markdown",
   "metadata": {},
   "source": [
    "_COMMENT_: The most frequent movie duration in the 1990s is 94min"
   ]
  },
  {
   "cell_type": "markdown",
   "metadata": {},
   "source": [
    "## **QUESTION 2**\n",
    "A movie is considered short if it is less than 90 minutes. count the number of _short action movies_ released in the 1990s and save this integer as *short_movie_count*\n"
   ]
  },
  {
   "cell_type": "code",
   "execution_count": 38,
   "metadata": {},
   "outputs": [
    {
     "data": {
      "text/plain": [
       "genre\n",
       "Action            48\n",
       "Dramas            44\n",
       "Comedies          40\n",
       "Children          15\n",
       "Classic Movies    15\n",
       "Stand-Up           8\n",
       "Thrillers          5\n",
       "Horror Movies      4\n",
       "Documentaries      2\n",
       "Cult Movies        2\n",
       "Docuseries         1\n",
       "Name: count, dtype: int64"
      ]
     },
     "execution_count": 38,
     "metadata": {},
     "output_type": "execute_result"
    }
   ],
   "source": [
    "# Checking out the different genere of movies release in the 1999s\n",
    "movie_in_1990s[\"genre\"].value_counts()"
   ]
  },
  {
   "cell_type": "markdown",
   "metadata": {},
   "source": [
    "#### **Creating bar to help you visualized the genere of movies release in 1990s**"
   ]
  },
  {
   "cell_type": "code",
   "execution_count": 50,
   "metadata": {},
   "outputs": [
    {
     "data": {
      "image/png": "[encoded data removed]",
      "text/plain": [
       "<Figure size 1600x800 with 1 Axes>"
      ]
     },
     "metadata": {},
     "output_type": "display_data"
    }
   ],
   "source": [
    "movie_in_1990s[\"genre\"].value_counts().plot(kind= \"bar\", figsize= (16, 8), rot=0)\n",
    "plt.xlabel(\"Movies genere\")\n",
    "plt.ylabel(\"Movies count\")\n",
    "plt.title(\"Genere of movies in 1999s\")\n",
    "plt.show()"
   ]
  },
  {
   "cell_type": "markdown",
   "metadata": {},
   "source": [
    "### **Subsetting action movies with the duration less than 90 minuest**"
   ]
  },
  {
   "cell_type": "code",
   "execution_count": null,
   "metadata": {},
   "outputs": [
    {
     "name": "stdout",
     "output_type": "stream",
     "text": [
      "7\n"
     ]
    }
   ],
   "source": [
    "# declearing a variable call short_action_movies\n",
    "short_action_movies = (movie_in_1990s[\"genre\"] == \"Action\") & (movie_in_1990s[\"duration\"] < 90)\n",
    "\n",
    "#Count the total action movies less 90 minutes and store it as short_movie_count\n",
    "short_movie_count = short_action_movies [short_action_movies].sum()\n",
    "print(short_movie_count)"
   ]
  },
  {
   "cell_type": "markdown",
   "metadata": {},
   "source": [
    "_COMMENT_: The total action movies release in 1999s and less than 90 minutes is **7**"
   ]
  }
 ],
 "metadata": {
  "kernelspec": {
   "display_name": "ArewaDS",
   "language": "python",
   "name": "python3"
  },
  "language_info": {
   "codemirror_mode": {
    "name": "ipython",
    "version": 3
   },
   "file_extension": ".py",
   "mimetype": "text/x-python",
   "name": "python",
   "nbconvert_exporter": "python",
   "pygments_lexer": "ipython3",
   "version": "3.13.1"
  }
 },
 "nbformat": 4,
 "nbformat_minor": 2
}
