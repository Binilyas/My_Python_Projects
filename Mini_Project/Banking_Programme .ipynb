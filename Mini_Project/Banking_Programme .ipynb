{
 "cells": [
  {
   "cell_type": "markdown",
   "metadata": {},
   "source": [
    "## **BANKING PROGRAMME**\n",
    "\n",
    "### _Project Objectives:_\n",
    "1. For user to be able to make a deposit, view balance, and Withdraw\n",
    "\n",
    "### _SKILL AND FUNCTION_\n",
    "1. declearing a function\n",
    "2. Using while loop"
   ]
  },
  {
   "cell_type": "code",
   "execution_count": null,
   "metadata": {},
   "outputs": [],
   "source": [
    "# Declearing a function \n",
    "\n",
    "def show_balance():\n",
    "    print(f\"Your Balance is ${balance:.2f}\")\n",
    "\n",
    "def deposit():\n",
    "    amount = float(input(\"Enter the amount to be depoisted: \"))\n",
    "\n",
    "    if amount < 0:\n",
    "        print(\"That is not a valid amount\")\n",
    "        return 0\n",
    "    else:\n",
    "        return amount\n",
    "\n",
    "\n",
    "def withdraw():\n",
    "    amount = float(input(\"Enter the amount to be withdrawn: \"))\n",
    "\n",
    "    if amount > balance:\n",
    "        print(\"Insficcient Funds\")\n",
    "        return 0\n",
    "    elif amount < 0:\n",
    "        print(\"The amount must be greater than 0\")\n",
    "        return 0\n",
    "    else:\n",
    "        return amount\n",
    "\n",
    "\n",
    "\n",
    "#declearing global variable\n",
    "balance = 0\n",
    "is_running = True\n",
    "\n",
    "#using while loop\n",
    "\n",
    "while is_running:\n",
    "    print(\"Banking Program\")\n",
    "    print(\"1. Show Balance\")\n",
    "    print(\"2. Deposit\")\n",
    "    print(\"3. Withdraw\")\n",
    "    print(\"4. Exist\")\n",
    "\n",
    "    # Choice variable: for user input \n",
    "    choice = input(\"ENter your choice (1-4): \")\n",
    "\n",
    "    #add if statement \n",
    "    if choice == \"1\":\n",
    "        show_balance()\n",
    "    elif choice == \"2\":\n",
    "       balance += deposit()\n",
    "\n",
    "    elif choice == \"3\":\n",
    "       balance -= withdraw()\n",
    "\n",
    "    elif choice == \"4\":\n",
    "        is_running = False\n",
    "    else:\n",
    "        print(\"This is not a valid choice! \")\n",
    "\n",
    "print(\"Thank you! Have a nice day\")\n",
    "\n",
    "\n"
   ]
  }
 ],
 "metadata": {
  "kernelspec": {
   "display_name": "ArewaDS",
   "language": "python",
   "name": "python3"
  },
  "language_info": {
   "codemirror_mode": {
    "name": "ipython",
    "version": 3
   },
   "file_extension": ".py",
   "mimetype": "text/x-python",
   "name": "python",
   "nbconvert_exporter": "python",
   "pygments_lexer": "ipython3",
   "version": "3.13.1"
  }
 },
 "nbformat": 4,
 "nbformat_minor": 2
}
